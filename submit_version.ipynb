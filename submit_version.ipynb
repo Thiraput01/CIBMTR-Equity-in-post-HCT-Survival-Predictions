{
 "cells": [
  {
   "cell_type": "code",
   "execution_count": 1,
   "id": "89e19ffc",
   "metadata": {
    "execution": {
     "iopub.execute_input": "2025-01-25T13:31:41.001873Z",
     "iopub.status.busy": "2025-01-25T13:31:41.001527Z",
     "iopub.status.idle": "2025-01-25T13:32:00.512846Z",
     "shell.execute_reply": "2025-01-25T13:32:00.511781Z"
    },
    "papermill": {
     "duration": 19.519548,
     "end_time": "2025-01-25T13:32:00.514935",
     "exception": false,
     "start_time": "2025-01-25T13:31:40.995387",
     "status": "completed"
    },
    "tags": []
   },
   "outputs": [
    {
     "name": "stdout",
     "output_type": "stream",
     "text": [
      "Processing /kaggle/input/pip-install-lifelines/autograd-1.7.0-py3-none-any.whl\r\n",
      "Requirement already satisfied: numpy in /usr/local/lib/python3.10/dist-packages (from autograd==1.7.0) (1.26.4)\r\n",
      "autograd is already installed with the same version as the provided wheel. Use --force-reinstall to force an installation of the wheel.\r\n",
      "Processing /kaggle/input/pip-install-lifelines/autograd-gamma-0.5.0.tar.gz\r\n",
      "  Preparing metadata (setup.py) ... \u001b[?25l\u001b[?25hdone\r\n",
      "Requirement already satisfied: autograd>=1.2.0 in /usr/local/lib/python3.10/dist-packages (from autograd-gamma==0.5.0) (1.7.0)\r\n",
      "Requirement already satisfied: scipy>=1.2.0 in /usr/local/lib/python3.10/dist-packages (from autograd-gamma==0.5.0) (1.13.1)\r\n",
      "Requirement already satisfied: numpy in /usr/local/lib/python3.10/dist-packages (from autograd>=1.2.0->autograd-gamma==0.5.0) (1.26.4)\r\n",
      "Building wheels for collected packages: autograd-gamma\r\n",
      "  Building wheel for autograd-gamma (setup.py) ... \u001b[?25l\u001b[?25hdone\r\n",
      "  Created wheel for autograd-gamma: filename=autograd_gamma-0.5.0-py3-none-any.whl size=4031 sha256=e6ae1e66bccf54dcaf3730c49a03a695f0a1ecba53253cc91725d93b1d616a2d\r\n",
      "  Stored in directory: /root/.cache/pip/wheels/6b/b5/e0/4c79e15c0b5f2c15ecf613c720bb20daab20a666eb67135155\r\n",
      "Successfully built autograd-gamma\r\n",
      "Installing collected packages: autograd-gamma\r\n",
      "Successfully installed autograd-gamma-0.5.0\r\n",
      "Processing /kaggle/input/pip-install-lifelines/interface_meta-1.3.0-py3-none-any.whl\r\n",
      "Installing collected packages: interface-meta\r\n",
      "Successfully installed interface-meta-1.3.0\r\n",
      "Processing /kaggle/input/pip-install-lifelines/formulaic-1.0.2-py3-none-any.whl\r\n",
      "Requirement already satisfied: interface-meta>=1.2.0 in /usr/local/lib/python3.10/dist-packages (from formulaic==1.0.2) (1.3.0)\r\n",
      "Requirement already satisfied: numpy>=1.16.5 in /usr/local/lib/python3.10/dist-packages (from formulaic==1.0.2) (1.26.4)\r\n",
      "Requirement already satisfied: pandas>=1.0 in /usr/local/lib/python3.10/dist-packages (from formulaic==1.0.2) (2.1.4)\r\n",
      "Requirement already satisfied: scipy>=1.6 in /usr/local/lib/python3.10/dist-packages (from formulaic==1.0.2) (1.13.1)\r\n",
      "Requirement already satisfied: typing-extensions>=4.2.0 in /usr/local/lib/python3.10/dist-packages (from formulaic==1.0.2) (4.12.2)\r\n",
      "Requirement already satisfied: wrapt>=1.0 in /usr/local/lib/python3.10/dist-packages (from formulaic==1.0.2) (1.16.0)\r\n",
      "Requirement already satisfied: python-dateutil>=2.8.2 in /usr/local/lib/python3.10/dist-packages (from pandas>=1.0->formulaic==1.0.2) (2.8.2)\r\n",
      "Requirement already satisfied: pytz>=2020.1 in /usr/local/lib/python3.10/dist-packages (from pandas>=1.0->formulaic==1.0.2) (2024.2)\r\n",
      "Requirement already satisfied: tzdata>=2022.1 in /usr/local/lib/python3.10/dist-packages (from pandas>=1.0->formulaic==1.0.2) (2024.1)\r\n",
      "Requirement already satisfied: six>=1.5 in /usr/local/lib/python3.10/dist-packages (from python-dateutil>=2.8.2->pandas>=1.0->formulaic==1.0.2) (1.16.0)\r\n",
      "Installing collected packages: formulaic\r\n",
      "Successfully installed formulaic-1.0.2\r\n",
      "Processing /kaggle/input/pip-install-lifelines/lifelines-0.30.0-py3-none-any.whl\r\n",
      "Requirement already satisfied: numpy>=1.14.0 in /usr/local/lib/python3.10/dist-packages (from lifelines==0.30.0) (1.26.4)\r\n",
      "Requirement already satisfied: scipy>=1.7.0 in /usr/local/lib/python3.10/dist-packages (from lifelines==0.30.0) (1.13.1)\r\n",
      "Requirement already satisfied: pandas>=2.1 in /usr/local/lib/python3.10/dist-packages (from lifelines==0.30.0) (2.1.4)\r\n",
      "Requirement already satisfied: matplotlib>=3.0 in /usr/local/lib/python3.10/dist-packages (from lifelines==0.30.0) (3.7.1)\r\n",
      "Requirement already satisfied: autograd>=1.5 in /usr/local/lib/python3.10/dist-packages (from lifelines==0.30.0) (1.7.0)\r\n",
      "Requirement already satisfied: autograd-gamma>=0.3 in /usr/local/lib/python3.10/dist-packages (from lifelines==0.30.0) (0.5.0)\r\n",
      "Requirement already satisfied: formulaic>=0.2.2 in /usr/local/lib/python3.10/dist-packages (from lifelines==0.30.0) (1.0.2)\r\n",
      "Requirement already satisfied: interface-meta>=1.2.0 in /usr/local/lib/python3.10/dist-packages (from formulaic>=0.2.2->lifelines==0.30.0) (1.3.0)\r\n",
      "Requirement already satisfied: typing-extensions>=4.2.0 in /usr/local/lib/python3.10/dist-packages (from formulaic>=0.2.2->lifelines==0.30.0) (4.12.2)\r\n",
      "Requirement already satisfied: wrapt>=1.0 in /usr/local/lib/python3.10/dist-packages (from formulaic>=0.2.2->lifelines==0.30.0) (1.16.0)\r\n",
      "Requirement already satisfied: contourpy>=1.0.1 in /usr/local/lib/python3.10/dist-packages (from matplotlib>=3.0->lifelines==0.30.0) (1.3.0)\r\n",
      "Requirement already satisfied: cycler>=0.10 in /usr/local/lib/python3.10/dist-packages (from matplotlib>=3.0->lifelines==0.30.0) (0.12.1)\r\n",
      "Requirement already satisfied: fonttools>=4.22.0 in /usr/local/lib/python3.10/dist-packages (from matplotlib>=3.0->lifelines==0.30.0) (4.53.1)\r\n",
      "Requirement already satisfied: kiwisolver>=1.0.1 in /usr/local/lib/python3.10/dist-packages (from matplotlib>=3.0->lifelines==0.30.0) (1.4.7)\r\n",
      "Requirement already satisfied: packaging>=20.0 in /usr/local/lib/python3.10/dist-packages (from matplotlib>=3.0->lifelines==0.30.0) (24.1)\r\n",
      "Requirement already satisfied: pillow>=6.2.0 in /usr/local/lib/python3.10/dist-packages (from matplotlib>=3.0->lifelines==0.30.0) (10.4.0)\r\n",
      "Requirement already satisfied: pyparsing>=2.3.1 in /usr/local/lib/python3.10/dist-packages (from matplotlib>=3.0->lifelines==0.30.0) (3.1.4)\r\n",
      "Requirement already satisfied: python-dateutil>=2.7 in /usr/local/lib/python3.10/dist-packages (from matplotlib>=3.0->lifelines==0.30.0) (2.8.2)\r\n",
      "Requirement already satisfied: pytz>=2020.1 in /usr/local/lib/python3.10/dist-packages (from pandas>=2.1->lifelines==0.30.0) (2024.2)\r\n",
      "Requirement already satisfied: tzdata>=2022.1 in /usr/local/lib/python3.10/dist-packages (from pandas>=2.1->lifelines==0.30.0) (2024.1)\r\n",
      "Requirement already satisfied: six>=1.5 in /usr/local/lib/python3.10/dist-packages (from python-dateutil>=2.7->matplotlib>=3.0->lifelines==0.30.0) (1.16.0)\r\n",
      "Installing collected packages: lifelines\r\n",
      "Successfully installed lifelines-0.30.0\r\n"
     ]
    }
   ],
   "source": [
    "!pip install /kaggle/input/pip-install-lifelines/autograd-1.7.0-py3-none-any.whl\n",
    "!pip install /kaggle/input/pip-install-lifelines/autograd-gamma-0.5.0.tar.gz\n",
    "!pip install /kaggle/input/pip-install-lifelines/interface_meta-1.3.0-py3-none-any.whl\n",
    "!pip install /kaggle/input/pip-install-lifelines/formulaic-1.0.2-py3-none-any.whl\n",
    "!pip install /kaggle/input/pip-install-lifelines/lifelines-0.30.0-py3-none-any.whl"
   ]
  },
  {
   "cell_type": "code",
   "execution_count": 2,
   "id": "e6c48439",
   "metadata": {
    "execution": {
     "iopub.execute_input": "2025-01-25T13:32:00.528108Z",
     "iopub.status.busy": "2025-01-25T13:32:00.527852Z",
     "iopub.status.idle": "2025-01-25T13:32:02.228656Z",
     "shell.execute_reply": "2025-01-25T13:32:02.227997Z"
    },
    "papermill": {
     "duration": 1.708833,
     "end_time": "2025-01-25T13:32:02.230280",
     "exception": false,
     "start_time": "2025-01-25T13:32:00.521447",
     "status": "completed"
    },
    "tags": []
   },
   "outputs": [],
   "source": [
    "\"\"\"\n",
    "To evaluate the equitable prediction of transplant survival outcomes,\n",
    "we use the concordance index (C-index) between a series of event\n",
    "times and a predicted score across each race group.\n",
    " \n",
    "It represents the global assessment of the model discrimination power:\n",
    "this is the model’s ability to correctly provide a reliable ranking\n",
    "of the survival times based on the individual risk scores.\n",
    " \n",
    "The concordance index is a value between 0 and 1 where:\n",
    " \n",
    "0.5 is the expected result from random predictions,\n",
    "1.0 is perfect concordance (with no censoring, otherwise <1.0),\n",
    "0.0 is perfect anti-concordance (with no censoring, otherwise >0.0)\n",
    "\n",
    "\"\"\"\n",
    "\n",
    "import pandas as pd\n",
    "import pandas.api.types\n",
    "import numpy as np\n",
    "from lifelines.utils import concordance_index\n",
    "\n",
    "class ParticipantVisibleError(Exception):\n",
    "    pass\n",
    "\n",
    "\n",
    "def score(solution: pd.DataFrame, submission: pd.DataFrame, row_id_column_name: str) -> float:\n",
    "    \"\"\"\n",
    "    >>> import pandas as pd\n",
    "    >>> row_id_column_name = \"id\"\n",
    "    >>> y_pred = {'prediction': {0: 1.0, 1: 0.0, 2: 1.0}}\n",
    "    >>> y_pred = pd.DataFrame(y_pred)\n",
    "    >>> y_pred.insert(0, row_id_column_name, range(len(y_pred)))\n",
    "    >>> y_true = { 'efs': {0: 1.0, 1: 0.0, 2: 0.0}, 'efs_time': {0: 25.1234,1: 250.1234,2: 2500.1234}, 'race_group': {0: 'race_group_1', 1: 'race_group_1', 2: 'race_group_1'}}\n",
    "    >>> y_true = pd.DataFrame(y_true)\n",
    "    >>> y_true.insert(0, row_id_column_name, range(len(y_true)))\n",
    "    >>> score(y_true.copy(), y_pred.copy(), row_id_column_name)\n",
    "    0.75\n",
    "    \"\"\"\n",
    "    \n",
    "    del solution[row_id_column_name]\n",
    "    del submission[row_id_column_name]\n",
    "    \n",
    "    event_label = 'efs'\n",
    "    interval_label = 'efs_time'\n",
    "    prediction_label = 'prediction'\n",
    "    for col in submission.columns:\n",
    "        if not pandas.api.types.is_numeric_dtype(submission[col]):\n",
    "            raise ParticipantVisibleError(f'Submission column {col} must be a number')\n",
    "    # Merging solution and submission dfs on ID\n",
    "    merged_df = pd.concat([solution, submission], axis=1)\n",
    "    merged_df.reset_index(inplace=True)\n",
    "    merged_df_race_dict = dict(merged_df.groupby(['race_group']).groups)\n",
    "    metric_list = []\n",
    "    for race in merged_df_race_dict.keys():\n",
    "        # Retrieving values from y_test based on index\n",
    "        indices = sorted(merged_df_race_dict[race])\n",
    "        merged_df_race = merged_df.iloc[indices]\n",
    "        # Calculate the concordance index\n",
    "        c_index_race = concordance_index(\n",
    "                        merged_df_race[interval_label],\n",
    "                        -merged_df_race[prediction_label],\n",
    "                        merged_df_race[event_label])\n",
    "        metric_list.append(c_index_race)\n",
    "    return float(np.mean(metric_list)-np.sqrt(np.var(metric_list)))"
   ]
  },
  {
   "cell_type": "code",
   "execution_count": 3,
   "id": "10eb3428",
   "metadata": {
    "execution": {
     "iopub.execute_input": "2025-01-25T13:32:02.242483Z",
     "iopub.status.busy": "2025-01-25T13:32:02.242163Z",
     "iopub.status.idle": "2025-01-25T13:32:02.245660Z",
     "shell.execute_reply": "2025-01-25T13:32:02.245003Z"
    },
    "papermill": {
     "duration": 0.010782,
     "end_time": "2025-01-25T13:32:02.246905",
     "exception": false,
     "start_time": "2025-01-25T13:32:02.236123",
     "status": "completed"
    },
    "tags": []
   },
   "outputs": [],
   "source": [
    "import numpy as np, pandas as pd\n",
    "import matplotlib.pyplot as plt\n",
    "\n",
    "pd.set_option('display.max_columns', 500)\n",
    "pd.set_option('display.max_rows', 500)"
   ]
  },
  {
   "cell_type": "code",
   "execution_count": 4,
   "id": "e2cce31e",
   "metadata": {
    "execution": {
     "iopub.execute_input": "2025-01-25T13:32:02.258659Z",
     "iopub.status.busy": "2025-01-25T13:32:02.258457Z",
     "iopub.status.idle": "2025-01-25T13:32:02.583078Z",
     "shell.execute_reply": "2025-01-25T13:32:02.582146Z"
    },
    "papermill": {
     "duration": 0.331813,
     "end_time": "2025-01-25T13:32:02.584450",
     "exception": false,
     "start_time": "2025-01-25T13:32:02.252637",
     "status": "completed"
    },
    "tags": []
   },
   "outputs": [
    {
     "name": "stdout",
     "output_type": "stream",
     "text": [
      "Test shape: (3, 58)\n",
      "Train shape: (28800, 60)\n"
     ]
    }
   ],
   "source": [
    "test = pd.read_csv(\"/kaggle/input/equity-post-HCT-survival-predictions/test.csv\")\n",
    "print(\"Test shape:\", test.shape )\n",
    "\n",
    "\n",
    "train = pd.read_csv(\"/kaggle/input/equity-post-HCT-survival-predictions/train.csv\")\n",
    "print(\"Train shape:\",train.shape)"
   ]
  },
  {
   "cell_type": "code",
   "execution_count": 5,
   "id": "d305fe7a",
   "metadata": {
    "execution": {
     "iopub.execute_input": "2025-01-25T13:32:02.597093Z",
     "iopub.status.busy": "2025-01-25T13:32:02.596856Z",
     "iopub.status.idle": "2025-01-25T13:32:02.600677Z",
     "shell.execute_reply": "2025-01-25T13:32:02.600046Z"
    },
    "papermill": {
     "duration": 0.011252,
     "end_time": "2025-01-25T13:32:02.601905",
     "exception": false,
     "start_time": "2025-01-25T13:32:02.590653",
     "status": "completed"
    },
    "tags": []
   },
   "outputs": [],
   "source": [
    "from lifelines import KaplanMeierFitter, NelsonAalenFitter\n",
    "\n",
    "def transform_kmf(df, time_col='efs_time', event_col='efs'):\n",
    "    \"\"\"\n",
    "    Transform using survival probability estimates\n",
    "    \"\"\"\n",
    "    kmf = KaplanMeierFitter()\n",
    "    kmf.fit(df[time_col], df[event_col])\n",
    "    y = kmf.survival_function_at_times(df[time_col]).values\n",
    "    return y\n"
   ]
  },
  {
   "cell_type": "code",
   "execution_count": 6,
   "id": "74163f68",
   "metadata": {
    "execution": {
     "iopub.execute_input": "2025-01-25T13:32:02.613877Z",
     "iopub.status.busy": "2025-01-25T13:32:02.613640Z",
     "iopub.status.idle": "2025-01-25T13:32:02.678614Z",
     "shell.execute_reply": "2025-01-25T13:32:02.678003Z"
    },
    "papermill": {
     "duration": 0.072527,
     "end_time": "2025-01-25T13:32:02.680094",
     "exception": false,
     "start_time": "2025-01-25T13:32:02.607567",
     "status": "completed"
    },
    "tags": []
   },
   "outputs": [],
   "source": [
    "train['y'] = transform_kmf(train, 'efs_time', 'efs')\n",
    "\n",
    "# try adding -0.1\n",
    "train.loc[train['efs'] == 0, 'y'] -= 0.1"
   ]
  },
  {
   "cell_type": "code",
   "execution_count": 7,
   "id": "6f6aac98",
   "metadata": {
    "execution": {
     "iopub.execute_input": "2025-01-25T13:32:02.692085Z",
     "iopub.status.busy": "2025-01-25T13:32:02.691851Z",
     "iopub.status.idle": "2025-01-25T13:32:02.698397Z",
     "shell.execute_reply": "2025-01-25T13:32:02.697685Z"
    },
    "papermill": {
     "duration": 0.013906,
     "end_time": "2025-01-25T13:32:02.699803",
     "exception": false,
     "start_time": "2025-01-25T13:32:02.685897",
     "status": "completed"
    },
    "tags": []
   },
   "outputs": [
    {
     "name": "stdout",
     "output_type": "stream",
     "text": [
      "There are 57 features\n",
      "There are 35 for catagorial and 22 for numerical\n"
     ]
    }
   ],
   "source": [
    "to_rmv =['ID', 'efs', 'efs_time', 'y']\n",
    "features = [col for col in train.columns if not col in to_rmv]\n",
    "cat = [c for c in features if train[c].dtype == 'object']\n",
    "num = [c for c in features if train[c].dtype != 'object']\n",
    "target = 'y'\n",
    "print(f'There are {len(features)} features')\n",
    "print(f'There are {len(cat)} for catagorial and {len(num)} for numerical')"
   ]
  },
  {
   "cell_type": "markdown",
   "id": "d329d335",
   "metadata": {
    "papermill": {
     "duration": 0.005343,
     "end_time": "2025-01-25T13:32:02.711194",
     "exception": false,
     "start_time": "2025-01-25T13:32:02.705851",
     "status": "completed"
    },
    "tags": []
   },
   "source": [
    "# Feature eng"
   ]
  },
  {
   "cell_type": "code",
   "execution_count": 8,
   "id": "dfd093ec",
   "metadata": {
    "execution": {
     "iopub.execute_input": "2025-01-25T13:32:02.722965Z",
     "iopub.status.busy": "2025-01-25T13:32:02.722729Z",
     "iopub.status.idle": "2025-01-25T13:32:02.785654Z",
     "shell.execute_reply": "2025-01-25T13:32:02.784990Z"
    },
    "papermill": {
     "duration": 0.070396,
     "end_time": "2025-01-25T13:32:02.787016",
     "exception": false,
     "start_time": "2025-01-25T13:32:02.716620",
     "status": "completed"
    },
    "tags": []
   },
   "outputs": [],
   "source": [
    "for c in cat:\n",
    "    train[c].fillna('Missing', inplace=True)\n",
    "    test[c].fillna('Missing', inplace=True)"
   ]
  },
  {
   "cell_type": "code",
   "execution_count": 9,
   "id": "40f8cd7c",
   "metadata": {
    "execution": {
     "iopub.execute_input": "2025-01-25T13:32:02.798768Z",
     "iopub.status.busy": "2025-01-25T13:32:02.798572Z",
     "iopub.status.idle": "2025-01-25T13:32:02.815505Z",
     "shell.execute_reply": "2025-01-25T13:32:02.814945Z"
    },
    "papermill": {
     "duration": 0.024268,
     "end_time": "2025-01-25T13:32:02.816731",
     "exception": false,
     "start_time": "2025-01-25T13:32:02.792463",
     "status": "completed"
    },
    "tags": []
   },
   "outputs": [],
   "source": [
    "def convert_64_to_32(df, num_features):\n",
    "    for c in num_features:\n",
    "        if df[c].dtype == 'float64':\n",
    "            df[c] = df[c].astype('float32')\n",
    "        else:\n",
    "            df[c] = df[c].astype('int32')\n",
    "    return df\n",
    "\n",
    "train = convert_64_to_32(train, num)\n",
    "test = convert_64_to_32(test, num)"
   ]
  },
  {
   "cell_type": "code",
   "execution_count": 10,
   "id": "0a7d9b98",
   "metadata": {
    "execution": {
     "iopub.execute_input": "2025-01-25T13:32:02.828588Z",
     "iopub.status.busy": "2025-01-25T13:32:02.828356Z",
     "iopub.status.idle": "2025-01-25T13:32:02.836142Z",
     "shell.execute_reply": "2025-01-25T13:32:02.835327Z"
    },
    "papermill": {
     "duration": 0.015092,
     "end_time": "2025-01-25T13:32:02.837396",
     "exception": false,
     "start_time": "2025-01-25T13:32:02.822304",
     "status": "completed"
    },
    "tags": []
   },
   "outputs": [],
   "source": [
    "def clean_columns(df):\n",
    "\n",
    "    value_mappings = {\n",
    "        'cmv_status': {\n",
    "            '+/+': 'Positive_Positive',\n",
    "            '+/-': 'Positive_Negative',\n",
    "            '-/+': 'Negative_Positive',\n",
    "            '-/-': 'Negative_Negative'\n",
    "        },\n",
    "        'tbi_status': {\n",
    "            'No TBI': 'No_Total_Body_Irradiation',\n",
    "            'TBI + Cy +- Other': 'TBI_with_Cyclophosphamide_and_Other',\n",
    "            'TBI +- Other, <=cGy': 'TBI_with_Other_Low_Dose',\n",
    "            'TBI +- Other, >cGy': 'TBI_with_Other_High_Dose',\n",
    "            'TBI +- Other, -cGy, single': 'TBI_with_Other_Single_Dose',\n",
    "            'TBI +- Other, unknown dose': 'TBI_with_Other_Unknown_Dose',\n",
    "            'TBI +- Other, -cGy, unknown dose': 'TBI_with_Other_Unknown_Dose',\n",
    "            'TBI +- Other, -cGy, fractionated': 'TBI_with_Other_Fractionated_Dose'\n",
    "        },\n",
    "        'dri_score': {\n",
    "            'Intermediate': 'Intermediate_Risk',\n",
    "            'N/A - pediatric': 'Not_Applicable_Pediatric',\n",
    "            'High': 'High_Risk',\n",
    "            'N/A - non-malignant indication': 'Not_Applicable_Non_Malignant',\n",
    "            'TBD cytogenetics': 'To_Be_Determined_Cytogenetics',\n",
    "            'Low': 'Low_Risk',\n",
    "            'High - TED AML case <missing cytogenetics': 'High_Risk_TED_AML_Missing_Cytogenetics',\n",
    "            'Intermediate - TED AML case <missing cytogenetics': 'Intermediate_Risk_TED_AML_Missing_Cytogenetics',\n",
    "            'N/A - disease not classifiable': 'Not_Applicable_Disease_Not_Classifiable',\n",
    "            'Very high': 'Very_High_Risk',\n",
    "            'Missing disease status': 'Missing'\n",
    "        },\n",
    "        'tce_imm_match': {\n",
    "            'P/P': 'Perfect_Perfect',\n",
    "            'G/G': 'Good_Good',\n",
    "            'H/H': 'Heterozygous_Heterozygous',\n",
    "            'G/B': 'Good_Bad',\n",
    "            'H/B': 'Heterozygous_Bad',\n",
    "            'P/H': 'Perfect_Heterozygous',\n",
    "            'P/B': 'Perfect_Bad',\n",
    "            'P/G': 'Perfect_Good'\n",
    "        },\n",
    "        'gvhd_proph': {\n",
    "            'FK+ MMF +- others': 'Tacrolimus_MMF_with_Others',\n",
    "            'Cyclophosphamide alone': 'Cyclophosphamide_Alone',\n",
    "            'FK+ MTX +- others(not MMF)': 'Tacrolimus_MTX_with_Others_Not_MMF',\n",
    "            'Cyclophosphamide +- others': 'Cyclophosphamide_with_Others',\n",
    "            'CSA + MMF +- others(not FK)': 'Cyclosporine_MMF_with_Others_Not_Tacrolimus',\n",
    "            'FKalone': 'Tacrolimus_Alone',\n",
    "            'Other GVHD Prophylaxis': 'Other_GVHD_Prophylaxis',\n",
    "            'TDEPLETION alone': 'TCell_Depletion_Alone',\n",
    "            'TDEPLETION +- other': 'TCell_Depletion_with_Others',\n",
    "            'No GvHD Prophylaxis': 'No_GVHD_Prophylaxis',\n",
    "            'CDselect alone': 'CD_Selection_Alone',\n",
    "            'CSA + MTX +- others(not MMF,FK)': 'Cyclosporine_MTX_with_Others_Not_MMF_Tacrolimus',\n",
    "            'CSA alone': 'Cyclosporine_Alone',\n",
    "            'Parent Q = yes, but no agent': 'Parent_Yes_No_Agent',\n",
    "            'CDselect +- other': 'CD_Selection_with_Others',\n",
    "            'CSA +- others(not FK,MMF,MTX)': 'Cyclosporine_with_Others_Not_Tacrolimus_MMF_MTX',\n",
    "            'FK+- others(not MMF,MTX)': 'Tacrolimus_with_Others_Not_MMF_MTX'\n",
    "        }\n",
    "    }\n",
    "\n",
    "    for col, mappings in value_mappings.items():\n",
    "        if col in df.columns:\n",
    "            df[col] = df[col].astype(str).map(mappings).fillna(df[col])\n",
    "\n",
    "    return df\n",
    "\n",
    "def clean_space(df):\n",
    "    for col in df.select_dtypes(include=['object']).columns:\n",
    "        df[col] = df[col].apply(lambda x: x.replace(' ', '_') if isinstance(x, str) else x)\n",
    "    return df\n",
    "\n",
    "def clean_not_done(df):\n",
    "    df = df.map(lambda x: 'Missing' if x == 'Not done' else x)\n",
    "    return df\n",
    "\n",
    "def clean_not_tested(df):\n",
    "    df = df.map(lambda x: 'Missing' if x == 'Not tested' else x)\n",
    "    return df\n",
    "\n",
    "def clean_dri_score(score):\n",
    "    if isinstance(score, str) and 'Missing disease status' in score:\n",
    "        return 'Missing'\n",
    "    return score\n",
    "\n",
    "def clean_conditioning_intensity(score):\n",
    "    if isinstance(score, str) and 'No drugs reported' in score:\n",
    "        return 'Missing'\n",
    "    return score"
   ]
  },
  {
   "cell_type": "code",
   "execution_count": 11,
   "id": "18478e75",
   "metadata": {
    "execution": {
     "iopub.execute_input": "2025-01-25T13:32:02.849288Z",
     "iopub.status.busy": "2025-01-25T13:32:02.849077Z",
     "iopub.status.idle": "2025-01-25T13:32:03.113770Z",
     "shell.execute_reply": "2025-01-25T13:32:03.112862Z"
    },
    "papermill": {
     "duration": 0.272465,
     "end_time": "2025-01-25T13:32:03.115486",
     "exception": false,
     "start_time": "2025-01-25T13:32:02.843021",
     "status": "completed"
    },
    "tags": []
   },
   "outputs": [],
   "source": [
    "train = clean_columns(train)\n",
    "test = clean_columns(test)\n",
    "\n",
    "# train = clean_not_done(train)\n",
    "# test = clean_not_done(test)\n",
    "\n",
    "# train = clean_not_tested(train)\n",
    "# test = clean_not_tested(test)\n",
    "\n",
    "train['dri_score'] = train['dri_score'].apply(clean_dri_score)\n",
    "test['dri_score'] = test['dri_score'].apply(clean_dri_score)\n",
    "\n",
    "train['conditioning_intensity'] = train['conditioning_intensity'].apply(clean_conditioning_intensity)\n",
    "test['conditioning_intensity'] = test['conditioning_intensity'].apply(clean_conditioning_intensity)\n",
    "\n",
    "train = clean_space(train)\n",
    "test = clean_space(test)"
   ]
  },
  {
   "cell_type": "markdown",
   "id": "9fb3873e",
   "metadata": {
    "papermill": {
     "duration": 0.005613,
     "end_time": "2025-01-25T13:32:03.126934",
     "exception": false,
     "start_time": "2025-01-25T13:32:03.121321",
     "status": "completed"
    },
    "tags": []
   },
   "source": [
    "# LightGBM"
   ]
  },
  {
   "cell_type": "code",
   "execution_count": 12,
   "id": "1a963c66",
   "metadata": {
    "execution": {
     "iopub.execute_input": "2025-01-25T13:32:03.138447Z",
     "iopub.status.busy": "2025-01-25T13:32:03.138191Z",
     "iopub.status.idle": "2025-01-25T13:32:03.615076Z",
     "shell.execute_reply": "2025-01-25T13:32:03.614086Z"
    },
    "papermill": {
     "duration": 0.484429,
     "end_time": "2025-01-25T13:32:03.616722",
     "exception": false,
     "start_time": "2025-01-25T13:32:03.132293",
     "status": "completed"
    },
    "tags": []
   },
   "outputs": [],
   "source": [
    "from sklearn.preprocessing import LabelEncoder\n",
    "\n",
    "\n",
    "def encode_features_lgb(train, test, cat, num):\n",
    "    train = train.copy()\n",
    "    test = test.copy()\n",
    "    \n",
    "    for c in cat:\n",
    "        encoder = LabelEncoder()\n",
    "\n",
    "        # Fit and transform the training data\n",
    "        train[c] = train[c].astype(str)\n",
    "        train[c] = encoder.fit_transform(train[c])\n",
    "        train[c] = train[c].astype('int32').astype('category')\n",
    "\n",
    "        # Transform the test data using the encoder fitted on the training data\n",
    "        test[c] = test[c].astype(str)\n",
    "        test[c] = encoder.transform(test[c])\n",
    "        test[c] = test[c].astype('int32').astype('category')\n",
    "\n",
    "    return train, test\n",
    "\n",
    "train_lgb, test_lgb = encode_features_lgb(train, test, cat, num)"
   ]
  },
  {
   "cell_type": "code",
   "execution_count": 13,
   "id": "22f5d62c",
   "metadata": {
    "execution": {
     "iopub.execute_input": "2025-01-25T13:32:03.629143Z",
     "iopub.status.busy": "2025-01-25T13:32:03.628859Z",
     "iopub.status.idle": "2025-01-25T13:32:07.021179Z",
     "shell.execute_reply": "2025-01-25T13:32:07.020435Z"
    },
    "papermill": {
     "duration": 3.400044,
     "end_time": "2025-01-25T13:32:07.022639",
     "exception": false,
     "start_time": "2025-01-25T13:32:03.622595",
     "status": "completed"
    },
    "tags": []
   },
   "outputs": [],
   "source": [
    "from sklearn.model_selection import StratifiedKFold, train_test_split, KFold\n",
    "from sklearn.metrics import *\n",
    "import lightgbm as lgb\n",
    "from lightgbm import LGBMRegressor\n",
    "\n",
    "def train_lgbm(train, test, model_params, features, cat_features, target):\n",
    "\n",
    "    fix_params = {\n",
    "        'device': \"gpu\",\n",
    "        'n_estimators': 10000,\n",
    "        'objective': 'regression',\n",
    "        'early_stopping_rounds':20,\n",
    "        'verbose': -1\n",
    "    }\n",
    "    model_params.update(fix_params)\n",
    "    \n",
    "    FOLDS = 10\n",
    "    kf = KFold(n_splits=FOLDS, shuffle=True, random_state=42)\n",
    "    \n",
    "    oof_lgb = np.zeros(len(train))\n",
    "    pred_lgb = np.zeros(len(test))\n",
    "\n",
    "    print('Training model with the followin parameters')\n",
    "    for k, v in model_params.items():\n",
    "        print(f'{k} : {v}')\n",
    "\n",
    "    for i, (t_idx, v_idx) in enumerate(kf.split(train)):\n",
    "\n",
    "        X_train = train.iloc[t_idx][features].copy()\n",
    "        y_train = train.iloc[t_idx][target]\n",
    "        X_valid = train.iloc[v_idx][features].copy()\n",
    "        y_valid = train.iloc[v_idx][target]\n",
    "        X_test = test[features].copy()\n",
    "\n",
    "        model_lgb = LGBMRegressor(**model_params)\n",
    "        model_lgb.fit(\n",
    "            X_train, np.log1p(y_train),\n",
    "            eval_set=[(X_valid, np.log1p(y_valid))],\n",
    "        )  \n",
    "        \n",
    "        y_valid_preds = np.expm1(model_lgb.predict(X_valid))\n",
    "        oof_lgb[v_idx] = y_valid_preds\n",
    "        pred_lgb += np.expm1(model_lgb.predict(X_test))\n",
    "\n",
    "        \n",
    "        fold_rmse = mean_squared_error(y_valid, y_valid_preds, squared=False)\n",
    "        print(\"#\"*25)\n",
    "        print(f\"### Fold {i+1} \\n\")\n",
    "        print(f\"Fold {i+1} RMSE: {fold_rmse}\")\n",
    "        print(\"#\"*25)\n",
    "\n",
    "    pred_lgb /= FOLDS\n",
    "\n",
    "    return model_lgb, oof_lgb, pred_lgb\n"
   ]
  },
  {
   "cell_type": "markdown",
   "id": "1ac9f56d",
   "metadata": {
    "papermill": {
     "duration": 0.0057,
     "end_time": "2025-01-25T13:32:07.034308",
     "exception": false,
     "start_time": "2025-01-25T13:32:07.028608",
     "status": "completed"
    },
    "tags": []
   },
   "source": [
    "# XGBoost"
   ]
  },
  {
   "cell_type": "code",
   "execution_count": 14,
   "id": "b4fc1048",
   "metadata": {
    "execution": {
     "iopub.execute_input": "2025-01-25T13:32:07.046423Z",
     "iopub.status.busy": "2025-01-25T13:32:07.045931Z",
     "iopub.status.idle": "2025-01-25T13:32:07.051516Z",
     "shell.execute_reply": "2025-01-25T13:32:07.050871Z"
    },
    "papermill": {
     "duration": 0.012826,
     "end_time": "2025-01-25T13:32:07.052697",
     "exception": false,
     "start_time": "2025-01-25T13:32:07.039871",
     "status": "completed"
    },
    "tags": []
   },
   "outputs": [],
   "source": [
    "def encode_features_xgb(train, test, label_encode_features, one_hot_encode_features, features):\n",
    "\n",
    "    # Label Encoding\n",
    "    label_encoders = {}\n",
    "    for feature in label_encode_features:\n",
    "        encoder = LabelEncoder()\n",
    "        train[feature] = train[feature].astype(str)\n",
    "        train[feature] = encoder.fit_transform(train[feature])\n",
    "        test[feature] = test[feature].astype(str)\n",
    "        test[feature] = encoder.transform(test[feature])\n",
    "        label_encoders[feature] = encoder\n",
    "\n",
    "    # One-Hot Encoding\n",
    "    train_one_hot = pd.get_dummies(train[one_hot_encode_features], prefix=one_hot_encode_features)\n",
    "    test_one_hot = pd.get_dummies(test[one_hot_encode_features], prefix=one_hot_encode_features)\n",
    "\n",
    "    train_one_hot, test_one_hot = train_one_hot.align(test_one_hot, join=\"outer\", axis=1, fill_value=0)\n",
    "\n",
    "    train_xgb = pd.concat([train, train_one_hot], axis=1)\n",
    "    test_xgb = pd.concat([test, test_one_hot], axis=1)\n",
    "\n",
    "    features_xgb = features.copy()\n",
    "    features_xgb.extend(train_one_hot.columns)\n",
    "    features_xgb = [f for f in features_xgb if f not in one_hot_encode_features]\n",
    "\n",
    "    return train_xgb, test_xgb, features_xgb"
   ]
  },
  {
   "cell_type": "code",
   "execution_count": 15,
   "id": "5a87c752",
   "metadata": {
    "execution": {
     "iopub.execute_input": "2025-01-25T13:32:07.064358Z",
     "iopub.status.busy": "2025-01-25T13:32:07.064149Z",
     "iopub.status.idle": "2025-01-25T13:32:07.288723Z",
     "shell.execute_reply": "2025-01-25T13:32:07.287705Z"
    },
    "papermill": {
     "duration": 0.232545,
     "end_time": "2025-01-25T13:32:07.290628",
     "exception": false,
     "start_time": "2025-01-25T13:32:07.058083",
     "status": "completed"
    },
    "tags": []
   },
   "outputs": [],
   "source": [
    "# Define features for label and one-hot encoding\n",
    "label_encode_features = [\n",
    "    \"dri_score\", \"psych_disturb\", \"cyto_score\", \"diabetes\", \n",
    "    \"arrhythmia\", \"vent_hist\", \"renal_issue\", \"pulm_severe\", \n",
    "    \"cmv_status\", \"tce_imm_match\", \"rituximab\", \"cyto_score_detail\", \n",
    "    \"conditioning_intensity\", \"ethnicity\", \"obesity\", \"mrd_hct\", \n",
    "    \"in_vivo_tcd\", \"tce_match\", \"hepatic_severe\", \"prior_tumor\", \n",
    "    \"peptic_ulcer\", \"gvhd_proph\", \"rheum_issue\", \"sex_match\", \n",
    "    \"hepatic_mild\", \"tce_div_match\", \"donor_related\", \"melphalan_dose\", \n",
    "    \"cardiac\", \"pulm_moderate\"\n",
    "]\n",
    "\n",
    "one_hot_encode_features = [\n",
    "    \"tbi_status\", \"graft_type\", \"prod_type\", \"prim_disease_hct\", \"race_group\"\n",
    "]\n",
    "\n",
    "# Apply the encoding\n",
    "train_xgb, test_xgb, features_xgb = encode_features_xgb(train, test, label_encode_features, one_hot_encode_features, features)\n"
   ]
  },
  {
   "cell_type": "code",
   "execution_count": 16,
   "id": "b4a62719",
   "metadata": {
    "execution": {
     "iopub.execute_input": "2025-01-25T13:32:07.303076Z",
     "iopub.status.busy": "2025-01-25T13:32:07.302782Z",
     "iopub.status.idle": "2025-01-25T13:32:07.324253Z",
     "shell.execute_reply": "2025-01-25T13:32:07.323274Z"
    },
    "papermill": {
     "duration": 0.029182,
     "end_time": "2025-01-25T13:32:07.325750",
     "exception": false,
     "start_time": "2025-01-25T13:32:07.296568",
     "status": "completed"
    },
    "tags": []
   },
   "outputs": [],
   "source": [
    "def object_to_cat(df):\n",
    "    for col in df.select_dtypes(include='object').columns:\n",
    "        df[col] = df[col].astype('category')\n",
    "    return df\n",
    "train_xgb2 = object_to_cat(train)\n",
    "test_xgb2 = object_to_cat(test)"
   ]
  },
  {
   "cell_type": "code",
   "execution_count": 17,
   "id": "71ef0769",
   "metadata": {
    "execution": {
     "iopub.execute_input": "2025-01-25T13:32:07.338977Z",
     "iopub.status.busy": "2025-01-25T13:32:07.338676Z",
     "iopub.status.idle": "2025-01-25T13:32:07.569546Z",
     "shell.execute_reply": "2025-01-25T13:32:07.568649Z"
    },
    "papermill": {
     "duration": 0.238875,
     "end_time": "2025-01-25T13:32:07.571176",
     "exception": false,
     "start_time": "2025-01-25T13:32:07.332301",
     "status": "completed"
    },
    "tags": []
   },
   "outputs": [],
   "source": [
    "from xgboost import XGBRegressor\n",
    "\n",
    "def train_XGB(train, test, model_params, features, target):\n",
    "    fix_params = {\n",
    "        'tree_method': 'hist',\n",
    "        'device': 'cuda', \n",
    "        'objective': 'reg:squarederror',\n",
    "        'n_estimators': 10000,\n",
    "        'early_stopping_rounds': 20,\n",
    "        'eval_metric': 'rmse',\n",
    "        'enable_categorical': True\n",
    "    }\n",
    "    model_params.update(fix_params)\n",
    "\n",
    "    FOLDS = 10\n",
    "    kf = KFold(n_splits=FOLDS, shuffle=True, random_state=42)\n",
    "\n",
    "    oof_xgb = np.zeros(len(train))\n",
    "    pred_xgb = np.zeros(len(test))\n",
    "\n",
    "    print('Training XGBoost model with the following parameters:')\n",
    "    for k, v in model_params.items():\n",
    "        print(f'{k} : {v}')\n",
    "\n",
    "    for i, (t_idx, v_idx) in enumerate(kf.split(train)):\n",
    "        X_train = train.iloc[t_idx][features].copy()\n",
    "        y_train = train.iloc[t_idx][target]\n",
    "        X_valid = train.iloc[v_idx][features].copy()\n",
    "        y_valid = train.iloc[v_idx][target]\n",
    "        X_test = test[features].copy()\n",
    "\n",
    "        model_xgb = XGBRegressor(**model_params)\n",
    "        model_xgb.fit(\n",
    "            X_train, np.log1p(y_train),\n",
    "            eval_set=[(X_valid, np.log1p(y_valid))],\n",
    "            verbose=False\n",
    "        )\n",
    "\n",
    "        y_valid_preds = np.expm1(model_xgb.predict(X_valid))\n",
    "        oof_xgb[v_idx] = y_valid_preds\n",
    "        pred_xgb += np.expm1(model_xgb.predict(X_test))\n",
    "\n",
    "        fold_rmse = mean_squared_error(y_valid, y_valid_preds, squared=False)\n",
    "        print(\"#\" * 25)\n",
    "        print(f\"### Fold {i+1} \\n\")\n",
    "        print(f\"Fold {i+1} RMSE: {fold_rmse}\")\n",
    "        print(\"#\" * 25)\n",
    "\n",
    "    pred_xgb /= FOLDS\n",
    "\n",
    "    return model_xgb, oof_xgb, pred_xgb"
   ]
  },
  {
   "cell_type": "markdown",
   "id": "61955223",
   "metadata": {
    "papermill": {
     "duration": 0.005438,
     "end_time": "2025-01-25T13:32:07.582589",
     "exception": false,
     "start_time": "2025-01-25T13:32:07.577151",
     "status": "completed"
    },
    "tags": []
   },
   "source": [
    "# CatBoost"
   ]
  },
  {
   "cell_type": "code",
   "execution_count": 18,
   "id": "336e6f1b",
   "metadata": {
    "execution": {
     "iopub.execute_input": "2025-01-25T13:32:07.594340Z",
     "iopub.status.busy": "2025-01-25T13:32:07.594121Z",
     "iopub.status.idle": "2025-01-25T13:32:07.607982Z",
     "shell.execute_reply": "2025-01-25T13:32:07.607305Z"
    },
    "papermill": {
     "duration": 0.021315,
     "end_time": "2025-01-25T13:32:07.609324",
     "exception": false,
     "start_time": "2025-01-25T13:32:07.588009",
     "status": "completed"
    },
    "tags": []
   },
   "outputs": [],
   "source": [
    "train_cat = train.copy()\n",
    "test_cat = test.copy()"
   ]
  },
  {
   "cell_type": "code",
   "execution_count": 19,
   "id": "fdf811b2",
   "metadata": {
    "execution": {
     "iopub.execute_input": "2025-01-25T13:32:07.621762Z",
     "iopub.status.busy": "2025-01-25T13:32:07.621543Z",
     "iopub.status.idle": "2025-01-25T13:32:07.854510Z",
     "shell.execute_reply": "2025-01-25T13:32:07.853793Z"
    },
    "papermill": {
     "duration": 0.240944,
     "end_time": "2025-01-25T13:32:07.855923",
     "exception": false,
     "start_time": "2025-01-25T13:32:07.614979",
     "status": "completed"
    },
    "tags": []
   },
   "outputs": [],
   "source": [
    "from catboost import CatBoostRegressor\n",
    "\n",
    "def train_CAT(train, test, model_params, features, cat_features, target):\n",
    "    fix_params = {\n",
    "        'task_type': \"GPU\",\n",
    "        'iterations': 10000,\n",
    "        'loss_function': 'RMSE',\n",
    "        'early_stopping_rounds': 20,\n",
    "    }\n",
    "    model_params.update(fix_params)\n",
    "\n",
    "    FOLDS = 10\n",
    "    kf = KFold(n_splits=FOLDS, shuffle=True, random_state=42)\n",
    "\n",
    "    oof_cat = np.zeros(len(train))\n",
    "    pred_cat = np.zeros(len(test))\n",
    "\n",
    "    print('Training model with the following parameters')\n",
    "    for k, v in model_params.items():\n",
    "        print(f'{k} : {v}')\n",
    "\n",
    "    for i, (t_idx, v_idx) in enumerate(kf.split(train)):\n",
    "        X_train = train.iloc[t_idx][features].copy()\n",
    "        y_train = train.iloc[t_idx][target]\n",
    "        X_valid = train.iloc[v_idx][features].copy()\n",
    "        y_valid = train.iloc[v_idx][target]\n",
    "        X_test = test[features].copy()\n",
    "\n",
    "\n",
    "        model_cat = CatBoostRegressor(**model_params)\n",
    "        model_cat.fit(\n",
    "            X_train, np.log1p(y_train),\n",
    "            cat_features=cat_features,\n",
    "            eval_set=[(X_valid, np.log1p(y_valid))],\n",
    "            verbose=False\n",
    "        )\n",
    "\n",
    "        y_valid_preds = np.expm1(model_cat.predict(X_valid))\n",
    "        oof_cat[v_idx] = y_valid_preds\n",
    "        pred_cat += np.expm1(model_cat.predict(X_test))\n",
    "\n",
    "        fold_rmse = mean_squared_error(y_valid, y_valid_preds, squared=False)\n",
    "        print(\"#\" * 25)\n",
    "        print(f\"### Fold {i + 1} \\n\")\n",
    "        print(f\"Fold {i + 1} RMSE: {fold_rmse}\")\n",
    "        print(\"#\" * 25)\n",
    "\n",
    "    pred_cat /= FOLDS\n",
    "\n",
    "    return model_cat, oof_cat, pred_cat\n"
   ]
  },
  {
   "cell_type": "markdown",
   "id": "b9c7af9e",
   "metadata": {
    "papermill": {
     "duration": 0.005332,
     "end_time": "2025-01-25T13:32:07.867229",
     "exception": false,
     "start_time": "2025-01-25T13:32:07.861897",
     "status": "completed"
    },
    "tags": []
   },
   "source": [
    "# Ensemble"
   ]
  },
  {
   "cell_type": "code",
   "execution_count": 20,
   "id": "cc3caef3",
   "metadata": {
    "execution": {
     "iopub.execute_input": "2025-01-25T13:32:07.878934Z",
     "iopub.status.busy": "2025-01-25T13:32:07.878614Z",
     "iopub.status.idle": "2025-01-25T13:34:32.929599Z",
     "shell.execute_reply": "2025-01-25T13:34:32.928510Z"
    },
    "papermill": {
     "duration": 145.058441,
     "end_time": "2025-01-25T13:34:32.931088",
     "exception": false,
     "start_time": "2025-01-25T13:32:07.872647",
     "status": "completed"
    },
    "tags": []
   },
   "outputs": [
    {
     "name": "stdout",
     "output_type": "stream",
     "text": [
      "Training model with the followin parameters\n",
      "max_depth : 5\n",
      "learning_rate : 0.01\n",
      "colsample_bytree : 0.40481123886709114\n",
      "subsample : 0.7673666426617842\n",
      "num_leaves : 46\n",
      "min_child_samples : 34\n",
      "lambda_l1 : 0.0032893870728708495\n",
      "lambda_l2 : 1.5780171816002318e-06\n",
      "bagging_freq : 5\n",
      "cat_features : ['dri_score', 'psych_disturb', 'cyto_score', 'diabetes', 'tbi_status', 'arrhythmia', 'graft_type', 'vent_hist', 'renal_issue', 'pulm_severe', 'prim_disease_hct', 'cmv_status', 'tce_imm_match', 'rituximab', 'prod_type', 'cyto_score_detail', 'conditioning_intensity', 'ethnicity', 'obesity', 'mrd_hct', 'in_vivo_tcd', 'tce_match', 'hepatic_severe', 'prior_tumor', 'peptic_ulcer', 'gvhd_proph', 'rheum_issue', 'sex_match', 'race_group', 'hepatic_mild', 'tce_div_match', 'donor_related', 'melphalan_dose', 'cardiac', 'pulm_moderate']\n",
      "n_estimators : 10000\n",
      "objective : regression\n",
      "early_stopping_rounds : 20\n",
      "device : gpu\n",
      "verbose : -1\n",
      "#########################\n",
      "### Fold 1 \n",
      "\n",
      "Fold 1 RMSE: 0.19412947247339082\n",
      "#########################\n",
      "#########################\n",
      "### Fold 2 \n",
      "\n",
      "Fold 2 RMSE: 0.1896892122789434\n",
      "#########################\n",
      "#########################\n",
      "### Fold 3 \n",
      "\n",
      "Fold 3 RMSE: 0.19218127119967315\n",
      "#########################\n",
      "#########################\n",
      "### Fold 4 \n",
      "\n",
      "Fold 4 RMSE: 0.19502000460884722\n",
      "#########################\n",
      "#########################\n",
      "### Fold 5 \n",
      "\n",
      "Fold 5 RMSE: 0.190626779722678\n",
      "#########################\n",
      "#########################\n",
      "### Fold 6 \n",
      "\n",
      "Fold 6 RMSE: 0.19408977610640346\n",
      "#########################\n",
      "#########################\n",
      "### Fold 7 \n",
      "\n",
      "Fold 7 RMSE: 0.19717342272356908\n",
      "#########################\n",
      "#########################\n",
      "### Fold 8 \n",
      "\n",
      "Fold 8 RMSE: 0.19256073330532827\n",
      "#########################\n",
      "#########################\n",
      "### Fold 9 \n",
      "\n",
      "Fold 9 RMSE: 0.19530342291296532\n",
      "#########################\n",
      "#########################\n",
      "### Fold 10 \n",
      "\n",
      "Fold 10 RMSE: 0.19249968712466836\n",
      "#########################\n",
      "Training XGBoost model with the following parameters:\n",
      "max_depth : 4\n",
      "learning_rate : 0.09180807102095336\n",
      "colsample_bytree : 0.3809438487844099\n",
      "subsample : 0.844622438351228\n",
      "n_estimators : 10000\n",
      "min_child_weight : 3.714743419003562\n",
      "reg_alpha : 5.80197653137552e-06\n",
      "reg_lambda : 1.2374095115455325e-08\n",
      "gamma : 0.0037460722016019465\n",
      "tree_method : hist\n",
      "device : cuda\n",
      "objective : reg:squarederror\n",
      "early_stopping_rounds : 20\n",
      "eval_metric : rmse\n",
      "enable_categorical : True\n"
     ]
    },
    {
     "name": "stderr",
     "output_type": "stream",
     "text": [
      "/usr/local/lib/python3.10/dist-packages/xgboost/core.py:160: UserWarning: [13:33:38] WARNING: /workspace/src/common/error_msg.cc:58: Falling back to prediction using DMatrix due to mismatched devices. This might lead to higher memory usage and slower performance. XGBoost is running on: cuda:0, while the input data is on: cpu.\n",
      "Potential solutions:\n",
      "- Use a data structure that matches the device ordinal in the booster.\n",
      "- Set the device for booster before call to inplace_predict.\n",
      "\n",
      "This warning will only be shown once.\n",
      "\n",
      "  warnings.warn(smsg, UserWarning)\n"
     ]
    },
    {
     "name": "stdout",
     "output_type": "stream",
     "text": [
      "#########################\n",
      "### Fold 1 \n",
      "\n",
      "Fold 1 RMSE: 0.19485636660309585\n",
      "#########################\n",
      "#########################\n",
      "### Fold 2 \n",
      "\n",
      "Fold 2 RMSE: 0.19061653480287635\n",
      "#########################\n",
      "#########################\n",
      "### Fold 3 \n",
      "\n",
      "Fold 3 RMSE: 0.192958637381658\n",
      "#########################\n",
      "#########################\n",
      "### Fold 4 \n",
      "\n",
      "Fold 4 RMSE: 0.19419730042728078\n",
      "#########################\n",
      "#########################\n",
      "### Fold 5 \n",
      "\n",
      "Fold 5 RMSE: 0.19156243688891625\n",
      "#########################\n",
      "#########################\n",
      "### Fold 6 \n",
      "\n",
      "Fold 6 RMSE: 0.19468112145322947\n",
      "#########################\n",
      "#########################\n",
      "### Fold 7 \n",
      "\n",
      "Fold 7 RMSE: 0.19709612390544606\n",
      "#########################\n",
      "#########################\n",
      "### Fold 8 \n",
      "\n",
      "Fold 8 RMSE: 0.19438781176211123\n",
      "#########################\n",
      "#########################\n",
      "### Fold 9 \n",
      "\n",
      "Fold 9 RMSE: 0.19659049605845522\n",
      "#########################\n",
      "#########################\n",
      "### Fold 10 \n",
      "\n",
      "Fold 10 RMSE: 0.19365635180806168\n",
      "#########################\n",
      "Training XGBoost model with the following parameters:\n",
      "max_depth : 9\n",
      "learning_rate : 0.018203874021653552\n",
      "colsample_bytree : 0.41392312362600636\n",
      "subsample : 0.870771567534879\n",
      "n_estimators : 10000\n",
      "min_child_weight : 6.587958958652532\n",
      "reg_alpha : 1.675358492618636e-07\n",
      "reg_lambda : 0.004228750471811781\n",
      "gamma : 0.02009243264106564\n",
      "tree_method : hist\n",
      "objective : reg:squarederror\n",
      "early_stopping_rounds : 20\n",
      "eval_metric : rmse\n",
      "enable_categorical : True\n",
      "device : cuda\n",
      "#########################\n",
      "### Fold 1 \n",
      "\n",
      "Fold 1 RMSE: 0.1952528600152662\n",
      "#########################\n",
      "#########################\n",
      "### Fold 2 \n",
      "\n",
      "Fold 2 RMSE: 0.190444012967708\n",
      "#########################\n",
      "#########################\n",
      "### Fold 3 \n",
      "\n",
      "Fold 3 RMSE: 0.19260405284545626\n",
      "#########################\n",
      "#########################\n",
      "### Fold 4 \n",
      "\n",
      "Fold 4 RMSE: 0.19498369413316413\n",
      "#########################\n",
      "#########################\n",
      "### Fold 5 \n",
      "\n",
      "Fold 5 RMSE: 0.19143388718942234\n",
      "#########################\n",
      "#########################\n",
      "### Fold 6 \n",
      "\n",
      "Fold 6 RMSE: 0.19487190832074924\n",
      "#########################\n",
      "#########################\n",
      "### Fold 7 \n",
      "\n",
      "Fold 7 RMSE: 0.1976432487500074\n",
      "#########################\n",
      "#########################\n",
      "### Fold 8 \n",
      "\n",
      "Fold 8 RMSE: 0.19274875993684704\n",
      "#########################\n",
      "#########################\n",
      "### Fold 9 \n",
      "\n",
      "Fold 9 RMSE: 0.19579898085422057\n",
      "#########################\n",
      "#########################\n",
      "### Fold 10 \n",
      "\n",
      "Fold 10 RMSE: 0.1936825830836244\n",
      "#########################\n"
     ]
    },
    {
     "name": "stderr",
     "output_type": "stream",
     "text": [
      "<ipython-input-2-a1aa375cd29b>:53: FutureWarning: The default of observed=False is deprecated and will be changed to True in a future version of pandas. Pass observed=False to retain current behavior or observed=True to adopt the future default and silence this warning.\n",
      "  merged_df_race_dict = dict(merged_df.groupby(['race_group']).groups)\n"
     ]
    },
    {
     "name": "stdout",
     "output_type": "stream",
     "text": [
      "\n",
      "Overall CV for KaplanMeier = 0.6770501592495527\n"
     ]
    }
   ],
   "source": [
    "model_lgb_params = {\n",
    "    'max_depth': 5,\n",
    "    'learning_rate': 0.01,\n",
    "    'colsample_bytree': 0.40481123886709114,\n",
    "    'subsample': 0.7673666426617842,\n",
    "    'num_leaves': 46,\n",
    "    'min_child_samples': 34,\n",
    "    'lambda_l1': 0.0032893870728708495,\n",
    "    'lambda_l2': 1.5780171816002318e-06,\n",
    "    'bagging_freq': 5,\n",
    "    'cat_features': cat,\n",
    "    'n_estimators': 5000,\n",
    "    'objective': 'regression',\n",
    "    'early_stopping_rounds': 20\n",
    "}\n",
    "\n",
    "model_xgb_params = {\n",
    "    'max_depth': 4, \n",
    "    'learning_rate': 0.09180807102095336,\n",
    "    'colsample_bytree': 0.3809438487844099, \n",
    "    'subsample': 0.844622438351228, \n",
    "    'n_estimators': 419, \n",
    "    'min_child_weight': 3.714743419003562, \n",
    "    'reg_alpha': 5.80197653137552e-06, \n",
    "    'reg_lambda': 1.2374095115455325e-08, \n",
    "    'gamma': 0.0037460722016019465\n",
    "}\n",
    "\n",
    "model_xgb2_params = {\n",
    "    \"max_depth\": 9,\n",
    "    \"learning_rate\": 0.018203874021653552,\n",
    "    \"colsample_bytree\": 0.41392312362600636,\n",
    "    \"subsample\": 0.870771567534879,\n",
    "    \"n_estimators\": 10000,\n",
    "    \"min_child_weight\": 6.587958958652532,\n",
    "    \"reg_alpha\": 1.675358492618636e-07,\n",
    "    \"reg_lambda\": 0.004228750471811781,\n",
    "    \"gamma\": 0.02009243264106564,\n",
    "    \"tree_method\": \"gpu_hist\",\n",
    "    \"objective\": \"reg:squarederror\",\n",
    "    \"early_stopping_rounds\": 20,\n",
    "    \"eval_metric\": \"rmse\",\n",
    "    \"enable_categorical\": True\n",
    "}\n",
    "\n",
    "\n",
    "model_cat_params = {\n",
    "    'depth': 5, \n",
    "    'learning_rate': 0.05259516359861675, \n",
    "    'bagging_temperature':0.5,\n",
    "    'l2_leaf_reg': 6.806823646372654e-06, \n",
    "    'random_strength': 5.889614035287661\n",
    "}\n",
    "\n",
    "model_lgb, oof_lgb, pred_lgb = train_lgbm(train_lgb, test_lgb, model_lgb_params, features, cat, target)\n",
    "model_xgb, oof_xgb, pred_xgb = train_XGB(train_xgb, test_xgb, model_xgb_params, features_xgb, target)\n",
    "model_xgb2, oof_xgb2, pred_xgb2 = train_XGB(train_xgb2, test_xgb2, model_xgb2_params, features, target)\n",
    "# model_cat, oof_cat, pred_cat = train_CAT(train_cat, test_cat, model_cat_params, features, cat, target)\n",
    "\n",
    "oof_ensemble = (oof_lgb + oof_xgb + oof_xgb2) / 3\n",
    "pred_ensemble = (pred_lgb + pred_xgb + pred_xgb2) / 3\n",
    "\n",
    "y_true = train[[\"ID\",\"efs\",\"efs_time\",\"race_group\"]].copy()\n",
    "y_pred = train[[\"ID\"]].copy()\n",
    "y_pred[\"prediction\"] = oof_ensemble\n",
    "m = score(y_true, y_pred, \"ID\")\n",
    "print(f\"\\nOverall CV for KaplanMeier =\", m)\n",
    "# Overall CV for KaplanMeier = 0.6744979717032406 (with 2 xgb)\n",
    "# Overall CV for KaplanMeier = 0.6742222404834405 (with 1 xgb)\n",
    "# Overall CV for KaplanMeier = 0.6745101916302204 (with 2 xgb, avg preds)\n",
    "# Overall CV for KaplanMeier = 0.6771615394911454 (when -= 0.1 for kmf)\n",
    "# Overall CV for KaplanMeier = 0.6770523750451444 (removing nor done)"
   ]
  },
  {
   "cell_type": "markdown",
   "id": "a8a2ea79",
   "metadata": {
    "papermill": {
     "duration": 0.008091,
     "end_time": "2025-01-25T13:34:32.947840",
     "exception": false,
     "start_time": "2025-01-25T13:34:32.939749",
     "status": "completed"
    },
    "tags": []
   },
   "source": [
    "# Submission"
   ]
  },
  {
   "cell_type": "code",
   "execution_count": 21,
   "id": "2fcdcd7b",
   "metadata": {
    "execution": {
     "iopub.execute_input": "2025-01-25T13:34:32.964890Z",
     "iopub.status.busy": "2025-01-25T13:34:32.964596Z",
     "iopub.status.idle": "2025-01-25T13:34:32.984667Z",
     "shell.execute_reply": "2025-01-25T13:34:32.983737Z"
    },
    "papermill": {
     "duration": 0.030223,
     "end_time": "2025-01-25T13:34:32.985934",
     "exception": false,
     "start_time": "2025-01-25T13:34:32.955711",
     "status": "completed"
    },
    "tags": []
   },
   "outputs": [
    {
     "data": {
      "text/html": [
       "<div>\n",
       "<style scoped>\n",
       "    .dataframe tbody tr th:only-of-type {\n",
       "        vertical-align: middle;\n",
       "    }\n",
       "\n",
       "    .dataframe tbody tr th {\n",
       "        vertical-align: top;\n",
       "    }\n",
       "\n",
       "    .dataframe thead th {\n",
       "        text-align: right;\n",
       "    }\n",
       "</style>\n",
       "<table border=\"1\" class=\"dataframe\">\n",
       "  <thead>\n",
       "    <tr style=\"text-align: right;\">\n",
       "      <th></th>\n",
       "      <th>ID</th>\n",
       "      <th>prediction</th>\n",
       "    </tr>\n",
       "  </thead>\n",
       "  <tbody>\n",
       "    <tr>\n",
       "      <th>0</th>\n",
       "      <td>28800</td>\n",
       "      <td>0.420952</td>\n",
       "    </tr>\n",
       "    <tr>\n",
       "      <th>1</th>\n",
       "      <td>28801</td>\n",
       "      <td>0.589429</td>\n",
       "    </tr>\n",
       "    <tr>\n",
       "      <th>2</th>\n",
       "      <td>28802</td>\n",
       "      <td>0.366986</td>\n",
       "    </tr>\n",
       "  </tbody>\n",
       "</table>\n",
       "</div>"
      ],
      "text/plain": [
       "      ID  prediction\n",
       "0  28800    0.420952\n",
       "1  28801    0.589429\n",
       "2  28802    0.366986"
      ]
     },
     "execution_count": 21,
     "metadata": {},
     "output_type": "execute_result"
    }
   ],
   "source": [
    "sample_submission = pd.read_csv('/kaggle/input/equity-post-HCT-survival-predictions/sample_submission.csv')\n",
    "submission = sample_submission.copy()\n",
    "submission['prediction'] = pred_ensemble\n",
    "submission.to_csv('/kaggle/working/submission.csv', index=False)\n",
    "submission"
   ]
  }
 ],
 "metadata": {
  "kaggle": {
   "accelerator": "nvidiaTeslaT4",
   "dataSources": [
    {
     "databundleVersionId": 10381525,
     "sourceId": 70942,
     "sourceType": "competition"
    },
    {
     "sourceId": 211253469,
     "sourceType": "kernelVersion"
    },
    {
     "sourceId": 211322530,
     "sourceType": "kernelVersion"
    }
   ],
   "dockerImageVersionId": 30822,
   "isGpuEnabled": true,
   "isInternetEnabled": false,
   "language": "python",
   "sourceType": "notebook"
  },
  "kernelspec": {
   "display_name": "Python 3",
   "language": "python",
   "name": "python3"
  },
  "language_info": {
   "codemirror_mode": {
    "name": "ipython",
    "version": 3
   },
   "file_extension": ".py",
   "mimetype": "text/x-python",
   "name": "python",
   "nbconvert_exporter": "python",
   "pygments_lexer": "ipython3",
   "version": "3.10.12"
  },
  "papermill": {
   "default_parameters": {},
   "duration": 175.408393,
   "end_time": "2025-01-25T13:34:34.113321",
   "environment_variables": {},
   "exception": null,
   "input_path": "__notebook__.ipynb",
   "output_path": "__notebook__.ipynb",
   "parameters": {},
   "start_time": "2025-01-25T13:31:38.704928",
   "version": "2.6.0"
  }
 },
 "nbformat": 4,
 "nbformat_minor": 5
}
